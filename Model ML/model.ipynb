{
 "cells": [
  {
   "cell_type": "code",
   "execution_count": 1,
   "metadata": {},
   "outputs": [],
   "source": [
    "# Load the dataset \n",
    "import pandas as pd\n",
    "import tensorflow as tf\n",
    "from sklearn.model_selection import train_test_split\n",
    "\n"
   ]
  },
  {
   "cell_type": "code",
   "execution_count": 2,
   "metadata": {},
   "outputs": [],
   "source": [
    "movies = pd.read_csv(\"movies.csv\")\n",
    "ratings = pd.read_csv(\"ratings.csv\")"
   ]
  },
  {
   "cell_type": "code",
   "execution_count": 3,
   "metadata": {},
   "outputs": [
    {
     "data": {
      "text/html": [
       "<div>\n",
       "<style scoped>\n",
       "    .dataframe tbody tr th:only-of-type {\n",
       "        vertical-align: middle;\n",
       "    }\n",
       "\n",
       "    .dataframe tbody tr th {\n",
       "        vertical-align: top;\n",
       "    }\n",
       "\n",
       "    .dataframe thead th {\n",
       "        text-align: right;\n",
       "    }\n",
       "</style>\n",
       "<table border=\"1\" class=\"dataframe\">\n",
       "  <thead>\n",
       "    <tr style=\"text-align: right;\">\n",
       "      <th></th>\n",
       "      <th>movie_id</th>\n",
       "      <th>movie_title</th>\n",
       "      <th>movie_genres_str</th>\n",
       "    </tr>\n",
       "  </thead>\n",
       "  <tbody>\n",
       "    <tr>\n",
       "      <th>0</th>\n",
       "      <td>1</td>\n",
       "      <td>Toy Story (1995)</td>\n",
       "      <td>['Adventure', 'Animation', \"Children's\"]</td>\n",
       "    </tr>\n",
       "    <tr>\n",
       "      <th>1</th>\n",
       "      <td>2</td>\n",
       "      <td>GoldenEye (1995)</td>\n",
       "      <td>['unknown', 'Action', 'Thriller']</td>\n",
       "    </tr>\n",
       "    <tr>\n",
       "      <th>2</th>\n",
       "      <td>3</td>\n",
       "      <td>Four Rooms (1995)</td>\n",
       "      <td>['Thriller']</td>\n",
       "    </tr>\n",
       "    <tr>\n",
       "      <th>3</th>\n",
       "      <td>4</td>\n",
       "      <td>Get Shorty (1995)</td>\n",
       "      <td>['unknown', \"Children's\", 'Documentary']</td>\n",
       "    </tr>\n",
       "    <tr>\n",
       "      <th>4</th>\n",
       "      <td>5</td>\n",
       "      <td>Copycat (1995)</td>\n",
       "      <td>['Comedy', 'Documentary', 'Thriller']</td>\n",
       "    </tr>\n",
       "  </tbody>\n",
       "</table>\n",
       "</div>"
      ],
      "text/plain": [
       "   movie_id        movie_title                          movie_genres_str\n",
       "0         1   Toy Story (1995)  ['Adventure', 'Animation', \"Children's\"]\n",
       "1         2   GoldenEye (1995)         ['unknown', 'Action', 'Thriller']\n",
       "2         3  Four Rooms (1995)                              ['Thriller']\n",
       "3         4  Get Shorty (1995)  ['unknown', \"Children's\", 'Documentary']\n",
       "4         5     Copycat (1995)     ['Comedy', 'Documentary', 'Thriller']"
      ]
     },
     "execution_count": 3,
     "metadata": {},
     "output_type": "execute_result"
    }
   ],
   "source": [
    "movies.head()"
   ]
  },
  {
   "cell_type": "code",
   "execution_count": 4,
   "metadata": {},
   "outputs": [
    {
     "data": {
      "text/html": [
       "<div>\n",
       "<style scoped>\n",
       "    .dataframe tbody tr th:only-of-type {\n",
       "        vertical-align: middle;\n",
       "    }\n",
       "\n",
       "    .dataframe tbody tr th {\n",
       "        vertical-align: top;\n",
       "    }\n",
       "\n",
       "    .dataframe thead th {\n",
       "        text-align: right;\n",
       "    }\n",
       "</style>\n",
       "<table border=\"1\" class=\"dataframe\">\n",
       "  <thead>\n",
       "    <tr style=\"text-align: right;\">\n",
       "      <th></th>\n",
       "      <th>movie_id</th>\n",
       "      <th>user_id</th>\n",
       "      <th>user_rating</th>\n",
       "    </tr>\n",
       "  </thead>\n",
       "  <tbody>\n",
       "    <tr>\n",
       "      <th>0</th>\n",
       "      <td>357</td>\n",
       "      <td>138</td>\n",
       "      <td>4.0</td>\n",
       "    </tr>\n",
       "    <tr>\n",
       "      <th>1</th>\n",
       "      <td>709</td>\n",
       "      <td>92</td>\n",
       "      <td>2.0</td>\n",
       "    </tr>\n",
       "    <tr>\n",
       "      <th>2</th>\n",
       "      <td>412</td>\n",
       "      <td>301</td>\n",
       "      <td>4.0</td>\n",
       "    </tr>\n",
       "    <tr>\n",
       "      <th>3</th>\n",
       "      <td>56</td>\n",
       "      <td>60</td>\n",
       "      <td>4.0</td>\n",
       "    </tr>\n",
       "    <tr>\n",
       "      <th>4</th>\n",
       "      <td>895</td>\n",
       "      <td>197</td>\n",
       "      <td>3.0</td>\n",
       "    </tr>\n",
       "  </tbody>\n",
       "</table>\n",
       "</div>"
      ],
      "text/plain": [
       "   movie_id  user_id  user_rating\n",
       "0       357      138          4.0\n",
       "1       709       92          2.0\n",
       "2       412      301          4.0\n",
       "3        56       60          4.0\n",
       "4       895      197          3.0"
      ]
     },
     "execution_count": 4,
     "metadata": {},
     "output_type": "execute_result"
    }
   ],
   "source": [
    "ratings.head()"
   ]
  },
  {
   "cell_type": "code",
   "execution_count": 5,
   "metadata": {},
   "outputs": [
    {
     "name": "stdout",
     "output_type": "stream",
     "text": [
      "<class 'pandas.core.frame.DataFrame'>\n",
      "RangeIndex: 1682 entries, 0 to 1681\n",
      "Data columns (total 3 columns):\n",
      " #   Column            Non-Null Count  Dtype \n",
      "---  ------            --------------  ----- \n",
      " 0   movie_id          1682 non-null   int64 \n",
      " 1   movie_title       1682 non-null   object\n",
      " 2   movie_genres_str  1682 non-null   object\n",
      "dtypes: int64(1), object(2)\n",
      "memory usage: 39.5+ KB\n"
     ]
    }
   ],
   "source": [
    "movies.info()"
   ]
  },
  {
   "cell_type": "code",
   "execution_count": 6,
   "metadata": {},
   "outputs": [
    {
     "name": "stdout",
     "output_type": "stream",
     "text": [
      "<class 'pandas.core.frame.DataFrame'>\n",
      "RangeIndex: 100000 entries, 0 to 99999\n",
      "Data columns (total 3 columns):\n",
      " #   Column       Non-Null Count   Dtype  \n",
      "---  ------       --------------   -----  \n",
      " 0   movie_id     100000 non-null  int64  \n",
      " 1   user_id      100000 non-null  int64  \n",
      " 2   user_rating  100000 non-null  float64\n",
      "dtypes: float64(1), int64(2)\n",
      "memory usage: 2.3 MB\n"
     ]
    }
   ],
   "source": [
    "ratings.info()"
   ]
  },
  {
   "cell_type": "code",
   "execution_count": 7,
   "metadata": {},
   "outputs": [
    {
     "name": "stdout",
     "output_type": "stream",
     "text": [
      "943\n",
      "1682\n"
     ]
    }
   ],
   "source": [
    "user_size = ratings['user_id'].nunique()\n",
    "movie_size = ratings['movie_id'].nunique()\n",
    "\n",
    "print(user_size)\n",
    "print(movie_size)"
   ]
  },
  {
   "cell_type": "markdown",
   "metadata": {},
   "source": [
    "Split dataset"
   ]
  },
  {
   "cell_type": "code",
   "execution_count": 8,
   "metadata": {},
   "outputs": [],
   "source": [
    "train, test = train_test_split(ratings, test_size=0.2, random_state=42)"
   ]
  },
  {
   "cell_type": "code",
   "execution_count": 9,
   "metadata": {},
   "outputs": [
    {
     "name": "stdout",
     "output_type": "stream",
     "text": [
      "Train Size (80000, 3)\n",
      "Test Size (20000, 3)\n"
     ]
    }
   ],
   "source": [
    "print(\"Train Size\", train.shape)\n",
    "print(\"Test Size\", test.shape)"
   ]
  },
  {
   "cell_type": "code",
   "execution_count": 10,
   "metadata": {},
   "outputs": [
    {
     "name": "stdout",
     "output_type": "stream",
     "text": [
      "Model: \"model\"\n",
      "__________________________________________________________________________________________________\n",
      " Layer (type)                   Output Shape         Param #     Connected to                     \n",
      "==================================================================================================\n",
      " input_1 (InputLayer)           [(None, 1)]          0           []                               \n",
      "                                                                                                  \n",
      " input_2 (InputLayer)           [(None, 1)]          0           []                               \n",
      "                                                                                                  \n",
      " embedding (Embedding)          (None, 1, 50)        84150       ['input_1[0][0]']                \n",
      "                                                                                                  \n",
      " embedding_1 (Embedding)        (None, 1, 50)        47200       ['input_2[0][0]']                \n",
      "                                                                                                  \n",
      " flatten (Flatten)              (None, 50)           0           ['embedding[0][0]']              \n",
      "                                                                                                  \n",
      " flatten_1 (Flatten)            (None, 50)           0           ['embedding_1[0][0]']            \n",
      "                                                                                                  \n",
      " dot (Dot)                      (None, 1)            0           ['flatten[0][0]',                \n",
      "                                                                  'flatten_1[0][0]']              \n",
      "                                                                                                  \n",
      "==================================================================================================\n",
      "Total params: 131,350\n",
      "Trainable params: 131,350\n",
      "Non-trainable params: 0\n",
      "__________________________________________________________________________________________________\n"
     ]
    }
   ],
   "source": [
    "# Build Model System recommendation\n",
    "EMBEDDING_SIZE = 50\n",
    "\n",
    "# Define model using Functional API \n",
    "movie_input = tf.keras.layers.Input(shape=[1])\n",
    "user_input = tf.keras.layers.Input(shape=[1])\n",
    "\n",
    "# Embedding layers\n",
    "movie_embedding = tf.keras.layers.Embedding(movie_size + 1, EMBEDDING_SIZE)(movie_input)\n",
    "user_embedding = tf.keras.layers.Embedding(user_size + 1, EMBEDDING_SIZE)(user_input)\n",
    "\n",
    "# flatten the embeddings\n",
    "movie_flat = tf.keras.layers.Flatten()(movie_embedding)\n",
    "user_flat = tf.keras.layers.Flatten()(user_embedding)\n",
    "\n",
    "# # layers Densen\n",
    "# Dense_movie = tf.keras.layers.Dense(8, activation='relu')(movie_flat)\n",
    "# Dense_ratings = tf.keras.layers.Dense(8, activation='relu')(user_flat)\n",
    "\n",
    "# layer output\n",
    "# output = tf.keras.layers.Dot(1)([Dense_movie, Dense_ratings])\n",
    "output = tf.keras.layers.Dot(1)([movie_flat, user_flat])\n",
    "\n",
    "# The Model \n",
    "model = tf.keras.models.Model(inputs=[movie_input, user_input], outputs=[output])\n",
    "\n",
    "model.summary()\n"
   ]
  },
  {
   "cell_type": "code",
   "execution_count": 11,
   "metadata": {},
   "outputs": [],
   "source": [
    "# compile the model \n",
    "model.compile(loss='mae', optimizer='adam')"
   ]
  },
  {
   "cell_type": "code",
   "execution_count": 12,
   "metadata": {},
   "outputs": [
    {
     "data": {
      "text/html": [
       "<div>\n",
       "<style scoped>\n",
       "    .dataframe tbody tr th:only-of-type {\n",
       "        vertical-align: middle;\n",
       "    }\n",
       "\n",
       "    .dataframe tbody tr th {\n",
       "        vertical-align: top;\n",
       "    }\n",
       "\n",
       "    .dataframe thead th {\n",
       "        text-align: right;\n",
       "    }\n",
       "</style>\n",
       "<table border=\"1\" class=\"dataframe\">\n",
       "  <thead>\n",
       "    <tr style=\"text-align: right;\">\n",
       "      <th></th>\n",
       "      <th>movie_id</th>\n",
       "      <th>user_id</th>\n",
       "      <th>user_rating</th>\n",
       "    </tr>\n",
       "  </thead>\n",
       "  <tbody>\n",
       "    <tr>\n",
       "      <th>75220</th>\n",
       "      <td>1016</td>\n",
       "      <td>109</td>\n",
       "      <td>5.0</td>\n",
       "    </tr>\n",
       "    <tr>\n",
       "      <th>48955</th>\n",
       "      <td>64</td>\n",
       "      <td>316</td>\n",
       "      <td>4.0</td>\n",
       "    </tr>\n",
       "    <tr>\n",
       "      <th>44966</th>\n",
       "      <td>89</td>\n",
       "      <td>200</td>\n",
       "      <td>5.0</td>\n",
       "    </tr>\n",
       "    <tr>\n",
       "      <th>13568</th>\n",
       "      <td>174</td>\n",
       "      <td>109</td>\n",
       "      <td>5.0</td>\n",
       "    </tr>\n",
       "    <tr>\n",
       "      <th>92727</th>\n",
       "      <td>204</td>\n",
       "      <td>788</td>\n",
       "      <td>3.0</td>\n",
       "    </tr>\n",
       "  </tbody>\n",
       "</table>\n",
       "</div>"
      ],
      "text/plain": [
       "       movie_id  user_id  user_rating\n",
       "75220      1016      109          5.0\n",
       "48955        64      316          4.0\n",
       "44966        89      200          5.0\n",
       "13568       174      109          5.0\n",
       "92727       204      788          3.0"
      ]
     },
     "execution_count": 12,
     "metadata": {},
     "output_type": "execute_result"
    }
   ],
   "source": [
    "train.head()"
   ]
  },
  {
   "cell_type": "code",
   "execution_count": 13,
   "metadata": {},
   "outputs": [
    {
     "name": "stdout",
     "output_type": "stream",
     "text": [
      "Epoch 1/20\n",
      "625/625 [==============================] - 7s 8ms/step - loss: 3.1031 - val_loss: 1.5107\n",
      "Epoch 2/20\n",
      "625/625 [==============================] - 4s 7ms/step - loss: 0.9909 - val_loss: 0.8146\n",
      "Epoch 3/20\n",
      "625/625 [==============================] - 4s 7ms/step - loss: 0.7721 - val_loss: 0.7627\n",
      "Epoch 4/20\n",
      "625/625 [==============================] - 4s 7ms/step - loss: 0.7386 - val_loss: 0.7497\n",
      "Epoch 5/20\n",
      "625/625 [==============================] - 4s 7ms/step - loss: 0.7210 - val_loss: 0.7415\n",
      "Epoch 6/20\n",
      "625/625 [==============================] - 4s 7ms/step - loss: 0.7081 - val_loss: 0.7358\n",
      "Epoch 7/20\n",
      "625/625 [==============================] - 4s 6ms/step - loss: 0.6961 - val_loss: 0.7339\n",
      "Epoch 8/20\n",
      "625/625 [==============================] - 4s 6ms/step - loss: 0.6855 - val_loss: 0.7309\n",
      "Epoch 9/20\n",
      "625/625 [==============================] - 4s 6ms/step - loss: 0.6748 - val_loss: 0.7297\n",
      "Epoch 10/20\n",
      "625/625 [==============================] - 4s 6ms/step - loss: 0.6637 - val_loss: 0.7282\n",
      "Epoch 11/20\n",
      "625/625 [==============================] - 4s 7ms/step - loss: 0.6522 - val_loss: 0.7277\n",
      "Epoch 12/20\n",
      "625/625 [==============================] - 4s 6ms/step - loss: 0.6412 - val_loss: 0.7274\n",
      "Epoch 13/20\n",
      "625/625 [==============================] - 4s 6ms/step - loss: 0.6281 - val_loss: 0.7258\n",
      "Epoch 14/20\n",
      "625/625 [==============================] - 4s 6ms/step - loss: 0.6151 - val_loss: 0.7263\n",
      "Epoch 15/20\n",
      "625/625 [==============================] - 5s 7ms/step - loss: 0.6006 - val_loss: 0.7265\n",
      "Epoch 16/20\n",
      "625/625 [==============================] - 5s 7ms/step - loss: 0.5857 - val_loss: 0.7278\n",
      "Epoch 17/20\n",
      "625/625 [==============================] - 5s 7ms/step - loss: 0.5700 - val_loss: 0.7291\n",
      "Epoch 18/20\n",
      "625/625 [==============================] - 5s 8ms/step - loss: 0.5533 - val_loss: 0.7312\n",
      "Epoch 19/20\n",
      "625/625 [==============================] - 5s 8ms/step - loss: 0.5362 - val_loss: 0.7322\n",
      "Epoch 20/20\n",
      "625/625 [==============================] - 4s 7ms/step - loss: 0.5193 - val_loss: 0.7343\n"
     ]
    }
   ],
   "source": [
    "# train the model \n",
    "history = model.fit(x=[train['movie_id'], train['user_id']],\n",
    "          y=train['user_rating'],\n",
    "          epochs=20,\n",
    "          batch_size=128,\n",
    "          validation_data=([test['movie_id'], test['user_id']], test['user_rating'])\n",
    "          )"
   ]
  },
  {
   "cell_type": "code",
   "execution_count": 14,
   "metadata": {},
   "outputs": [
    {
     "data": {
      "text/plain": [
       "[<matplotlib.lines.Line2D at 0x16f90288f70>,\n",
       " <matplotlib.lines.Line2D at 0x16f90288fd0>]"
      ]
     },
     "execution_count": 14,
     "metadata": {},
     "output_type": "execute_result"
    },
    {
     "data": {
      "image/png": "[encoded data removed]",
      "text/plain": [
       "<Figure size 640x480 with 1 Axes>"
      ]
     },
     "metadata": {},
     "output_type": "display_data"
    }
   ],
   "source": [
    "import matplotlib.pyplot as plt\n",
    "\n",
    "losses = pd.DataFrame(history.history)\n",
    "plt.plot(losses)"
   ]
  },
  {
   "cell_type": "code",
   "execution_count": 15,
   "metadata": {},
   "outputs": [
    {
     "name": "stdout",
     "output_type": "stream",
     "text": [
      "625/625 [==============================] - 3s 4ms/step - loss: 0.7343\n"
     ]
    },
    {
     "data": {
      "text/plain": [
       "0.7342984080314636"
      ]
     },
     "execution_count": 15,
     "metadata": {},
     "output_type": "execute_result"
    }
   ],
   "source": [
    "model.evaluate([test.movie_id, test.user_id], test.user_rating)"
   ]
  },
  {
   "cell_type": "code",
   "execution_count": 17,
   "metadata": {},
   "outputs": [],
   "source": [
    "# get recommendation\n",
    "\n",
    "import numpy as np\n",
    "import matplotlib.pyplot as plt\n",
    "\n",
    "def get_recommendations(user_id, movies, model):\n",
    "    movies = movies.copy()\n",
    "    user_ids = np.array([user_id] * len(movies))\n",
    "    results = model([movies['movie_id'].values, user_ids]).numpy().reshape(-1)\n",
    "\n",
    "    movies['predicted_rating'] = pd.Series(results)\n",
    "    movies = movies.sort_values('predicted_rating', ascending=False)\n",
    "\n",
    "    print(f\"Recommendation for user{user_ids}\")\n",
    "    return movies"
   ]
  },
  {
   "cell_type": "code",
   "execution_count": 18,
   "metadata": {},
   "outputs": [
    {
     "name": "stdout",
     "output_type": "stream",
     "text": [
      "Recommendation for user[5 5 5 ... 5 5 5]\n"
     ]
    },
    {
     "data": {
      "text/html": [
       "<div>\n",
       "<style scoped>\n",
       "    .dataframe tbody tr th:only-of-type {\n",
       "        vertical-align: middle;\n",
       "    }\n",
       "\n",
       "    .dataframe tbody tr th {\n",
       "        vertical-align: top;\n",
       "    }\n",
       "\n",
       "    .dataframe thead th {\n",
       "        text-align: right;\n",
       "    }\n",
       "</style>\n",
       "<table border=\"1\" class=\"dataframe\">\n",
       "  <thead>\n",
       "    <tr style=\"text-align: right;\">\n",
       "      <th></th>\n",
       "      <th>movie_id</th>\n",
       "      <th>movie_title</th>\n",
       "      <th>movie_genres_str</th>\n",
       "      <th>predicted_rating</th>\n",
       "    </tr>\n",
       "  </thead>\n",
       "  <tbody>\n",
       "    <tr>\n",
       "      <th>49</th>\n",
       "      <td>50</td>\n",
       "      <td>Star Wars (1977)</td>\n",
       "      <td>['unknown', 'Action', 'Romance', 'Sci-Fi', 'We...</td>\n",
       "      <td>4.939991</td>\n",
       "    </tr>\n",
       "    <tr>\n",
       "      <th>180</th>\n",
       "      <td>181</td>\n",
       "      <td>Return of the Jedi (1983)</td>\n",
       "      <td>['unknown', 'Action', 'Romance', 'Sci-Fi', 'We...</td>\n",
       "      <td>4.850642</td>\n",
       "    </tr>\n",
       "    <tr>\n",
       "      <th>194</th>\n",
       "      <td>195</td>\n",
       "      <td>Terminator, The (1984)</td>\n",
       "      <td>['unknown', 'Sci-Fi', 'Thriller']</td>\n",
       "      <td>4.825572</td>\n",
       "    </tr>\n",
       "    <tr>\n",
       "      <th>99</th>\n",
       "      <td>100</td>\n",
       "      <td>Fargo (1996)</td>\n",
       "      <td>['Comedy', 'Documentary', 'Thriller']</td>\n",
       "      <td>4.768197</td>\n",
       "    </tr>\n",
       "    <tr>\n",
       "      <th>172</th>\n",
       "      <td>173</td>\n",
       "      <td>Princess Bride, The (1987)</td>\n",
       "      <td>['unknown', 'Action', \"Children's\", 'Romance']</td>\n",
       "      <td>4.755917</td>\n",
       "    </tr>\n",
       "    <tr>\n",
       "      <th>...</th>\n",
       "      <td>...</td>\n",
       "      <td>...</td>\n",
       "      <td>...</td>\n",
       "      <td>...</td>\n",
       "    </tr>\n",
       "    <tr>\n",
       "      <th>1129</th>\n",
       "      <td>1130</td>\n",
       "      <td>Jupiter's Wife (1994)</td>\n",
       "      <td>['Crime']</td>\n",
       "      <td>-0.089530</td>\n",
       "    </tr>\n",
       "    <tr>\n",
       "      <th>1667</th>\n",
       "      <td>1668</td>\n",
       "      <td>Wedding Bell Blues (1996)</td>\n",
       "      <td>[\"Children's\"]</td>\n",
       "      <td>-0.111017</td>\n",
       "    </tr>\n",
       "    <tr>\n",
       "      <th>1677</th>\n",
       "      <td>1678</td>\n",
       "      <td>Mat' i syn (1997)</td>\n",
       "      <td>['Documentary']</td>\n",
       "      <td>-0.120731</td>\n",
       "    </tr>\n",
       "    <tr>\n",
       "      <th>1515</th>\n",
       "      <td>1516</td>\n",
       "      <td>Wedding Gift, The (1994)</td>\n",
       "      <td>['Documentary']</td>\n",
       "      <td>-0.194044</td>\n",
       "    </tr>\n",
       "    <tr>\n",
       "      <th>1570</th>\n",
       "      <td>1571</td>\n",
       "      <td>Touki Bouki (Journey of the Hyena) (1973)</td>\n",
       "      <td>['Documentary']</td>\n",
       "      <td>-0.203842</td>\n",
       "    </tr>\n",
       "  </tbody>\n",
       "</table>\n",
       "<p>1682 rows × 4 columns</p>\n",
       "</div>"
      ],
      "text/plain": [
       "      movie_id                                movie_title  \\\n",
       "49          50                           Star Wars (1977)   \n",
       "180        181                  Return of the Jedi (1983)   \n",
       "194        195                     Terminator, The (1984)   \n",
       "99         100                               Fargo (1996)   \n",
       "172        173                 Princess Bride, The (1987)   \n",
       "...        ...                                        ...   \n",
       "1129      1130                      Jupiter's Wife (1994)   \n",
       "1667      1668                  Wedding Bell Blues (1996)   \n",
       "1677      1678                          Mat' i syn (1997)   \n",
       "1515      1516                   Wedding Gift, The (1994)   \n",
       "1570      1571  Touki Bouki (Journey of the Hyena) (1973)   \n",
       "\n",
       "                                       movie_genres_str  predicted_rating  \n",
       "49    ['unknown', 'Action', 'Romance', 'Sci-Fi', 'We...          4.939991  \n",
       "180   ['unknown', 'Action', 'Romance', 'Sci-Fi', 'We...          4.850642  \n",
       "194                   ['unknown', 'Sci-Fi', 'Thriller']          4.825572  \n",
       "99                ['Comedy', 'Documentary', 'Thriller']          4.768197  \n",
       "172      ['unknown', 'Action', \"Children's\", 'Romance']          4.755917  \n",
       "...                                                 ...               ...  \n",
       "1129                                          ['Crime']         -0.089530  \n",
       "1667                                     [\"Children's\"]         -0.111017  \n",
       "1677                                    ['Documentary']         -0.120731  \n",
       "1515                                    ['Documentary']         -0.194044  \n",
       "1570                                    ['Documentary']         -0.203842  \n",
       "\n",
       "[1682 rows x 4 columns]"
      ]
     },
     "execution_count": 18,
     "metadata": {},
     "output_type": "execute_result"
    }
   ],
   "source": [
    "get_recommendations(5, movies, model)"
   ]
  },
  {
   "cell_type": "code",
   "execution_count": 19,
   "metadata": {},
   "outputs": [],
   "source": [
    "model.save('model.h5')"
   ]
  },
  {
   "cell_type": "code",
   "execution_count": 21,
   "metadata": {},
   "outputs": [],
   "source": [
    "def get_embedding(movies, model):\n",
    "    vectors = model.layers[2](movies['movie_id'].values).numpy()\n",
    "    vectors = pd.DataFrame(vectors)\n",
    "    vectors.to_csv('vectors.tsv', sep='\\t', header=False)\n",
    "\n",
    "    movies.to_csv('meta.tsv', sep='\\t')\n",
    "\n",
    "get_embedding(movies, model)"
   ]
  },
  {
   "cell_type": "code",
   "execution_count": null,
   "metadata": {},
   "outputs": [],
   "source": []
  }
 ],
 "metadata": {
  "kernelspec": {
   "display_name": "base",
   "language": "python",
   "name": "python3"
  },
  "language_info": {
   "codemirror_mode": {
    "name": "ipython",
    "version": 3
   },
   "file_extension": ".py",
   "mimetype": "text/x-python",
   "name": "python",
   "nbconvert_exporter": "python",
   "pygments_lexer": "ipython3",
   "version": "3.8.5"
  },
  "orig_nbformat": 4
 },
 "nbformat": 4,
 "nbformat_minor": 2
}
